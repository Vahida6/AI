{
 "cells": [
  {
   "cell_type": "markdown",
   "id": "a644b75a",
   "metadata": {},
   "source": [
    "#Tensor Flow "
   ]
  },
  {
   "cell_type": "markdown",
   "id": "2fba5a61",
   "metadata": {},
   "source": [
    "**A. Shows how you can create a session in Tensor Flow"
   ]
  },
  {
   "cell_type": "markdown",
   "id": "063893be",
   "metadata": {},
   "source": [
    "#Answer"
   ]
  },
  {
   "cell_type": "code",
   "execution_count": 1,
   "id": "83b4f8f6",
   "metadata": {},
   "outputs": [],
   "source": [
    "import tensorflow as tf"
   ]
  },
  {
   "cell_type": "code",
   "execution_count": 7,
   "id": "8a0d1bc5",
   "metadata": {},
   "outputs": [],
   "source": [
    "a=tf.constant(10)"
   ]
  },
  {
   "cell_type": "code",
   "execution_count": 3,
   "id": "b61f39e5",
   "metadata": {},
   "outputs": [
    {
     "data": {
      "text/plain": [
       "tensorflow.python.framework.ops.EagerTensor"
      ]
     },
     "execution_count": 3,
     "metadata": {},
     "output_type": "execute_result"
    }
   ],
   "source": [
    "type(hello)"
   ]
  },
  {
   "cell_type": "code",
   "execution_count": 53,
   "id": "24409589",
   "metadata": {},
   "outputs": [
    {
     "data": {
      "text/plain": [
       "[10, 20]"
      ]
     },
     "execution_count": 53,
     "metadata": {},
     "output_type": "execute_result"
    }
   ],
   "source": [
    "tf.compat.v1.disable_eager_execution()# need to disable eager in TF2.x\n",
    "# Build a graph.\n",
    "con1=tf.constant(10)\n",
    "con2=tf.constant(20)\n",
    "# Launch the graph in a session.\n",
    "sess=tf.compat.v1.Session()\n",
    "# Evaluate the tensor `con1`,'con2'.\n",
    "sess.run([con1,con2])"
   ]
  },
  {
   "cell_type": "code",
   "execution_count": 54,
   "id": "5da37b9c",
   "metadata": {},
   "outputs": [
    {
     "name": "stdout",
     "output_type": "stream",
     "text": [
      "30.0\n"
     ]
    }
   ],
   "source": [
    "tf.compat.v1.disable_eager_execution() # need to disable eager in TF2.x\n",
    "# Build a graph.\n",
    "a = tf.constant(5.0)\n",
    "b = tf.constant(6.0)\n",
    "c = a * b\n",
    "\n",
    "# Launch the graph in a session.\n",
    "sess = tf.compat.v1.Session()\n",
    "\n",
    "# Evaluate the tensor `c`.\n",
    "print(sess.run(c)) # prints 30.0"
   ]
  },
  {
   "cell_type": "markdown",
   "id": "e3838716",
   "metadata": {},
   "source": [
    "**B. Define constants and perform computation such as addition and subtraction with those\n",
    "constants using the session."
   ]
  },
  {
   "cell_type": "markdown",
   "id": "62b9d2d4",
   "metadata": {},
   "source": [
    "#Answer\n",
    "\n",
    "#Def:  Constants are primary elements whose value does not change"
   ]
  },
  {
   "cell_type": "code",
   "execution_count": 16,
   "id": "dc6328e8",
   "metadata": {},
   "outputs": [
    {
     "name": "stdout",
     "output_type": "stream",
     "text": [
      "57\n"
     ]
    }
   ],
   "source": [
    "#Addition\n",
    "tf.compat.v1.disable_eager_execution() # need to disable eager in TF2.x\n",
    "# Build a graph.\n",
    "a = tf.constant(24)\n",
    "b = tf.constant(33)\n",
    "c = a+b\n",
    "\n",
    "# Launch the graph in a session.\n",
    "sess = tf.compat.v1.Session()\n",
    "\n",
    "# Evaluate the tensor `c`.\n",
    "print(sess.run(c)) # prints 57"
   ]
  },
  {
   "cell_type": "code",
   "execution_count": 17,
   "id": "c28935dd",
   "metadata": {},
   "outputs": [
    {
     "name": "stdout",
     "output_type": "stream",
     "text": [
      "67.0\n"
     ]
    }
   ],
   "source": [
    "#Subtraction\n",
    "#Addition\n",
    "tf.compat.v1.disable_eager_execution() # need to disable eager in TF2.x\n",
    "# Build a graph.\n",
    "a = tf.constant(100.0)\n",
    "b = tf.constant(33.0)\n",
    "c = a-b\n",
    "\n",
    "# Launch the graph in a session.\n",
    "sess = tf.compat.v1.Session()\n",
    "\n",
    "# Evaluate the tensor `c`.\n",
    "print(sess.run(c)) # prints 67.0"
   ]
  },
  {
   "cell_type": "markdown",
   "id": "f4ad5e29",
   "metadata": {},
   "source": [
    "**C. Print Hello World using the same"
   ]
  },
  {
   "cell_type": "code",
   "execution_count": 55,
   "id": "680d25d9",
   "metadata": {},
   "outputs": [
    {
     "name": "stdout",
     "output_type": "stream",
     "text": [
      "b'Hello World'\n"
     ]
    }
   ],
   "source": [
    "tf.compat.v1.disable_eager_execution() # need to disable eager in TF2.x\n",
    "# Build a graph.\n",
    "str= tf.constant(\"Hello World\")\n",
    "\n",
    "\n",
    "# Launch the graph in a session.\n",
    "sess = tf.compat.v1.Session()\n",
    "\n",
    "# Evaluate the tensor `c`.\n",
    "print(sess.run(str)) # prints 'Hello World'"
   ]
  },
  {
   "cell_type": "markdown",
   "id": "1ef567b2",
   "metadata": {},
   "source": [
    "**D. Create a simple Linear Equation y = mx+c in tensor flow, where m and c are variables\n",
    "and x is a placeholder\n",
    "a. Feed in a scalar value to x\n",
    "b. Feed in a vector of 5 values to x\n",
    "c. Choose arbitrary values for m and c"
   ]
  },
  {
   "cell_type": "code",
   "execution_count": 43,
   "id": "e045f240",
   "metadata": {},
   "outputs": [],
   "source": [
    "#a. Feed in a scalar value to x\n",
    "sess = tf.compat.v1.Session()\n",
    "x = tf.compat.v1.placeholder(tf.int32)"
   ]
  },
  {
   "cell_type": "code",
   "execution_count": 35,
   "id": "bacd3002",
   "metadata": {},
   "outputs": [],
   "source": [
    "#b. Feed in a vector of 5 values to x\n",
    "m=tf.compat.v1.Variable([10],tf.int32)\n",
    "c=tf.compat.v1.Variable([5],tf.int32)"
   ]
  },
  {
   "cell_type": "code",
   "execution_count": 46,
   "id": "af6dfb04",
   "metadata": {},
   "outputs": [],
   "source": [
    "init = tf.compat.v1.global_variables_initializer()\n",
    "y=m*x+c"
   ]
  },
  {
   "cell_type": "code",
   "execution_count": 47,
   "id": "162e6b71",
   "metadata": {},
   "outputs": [],
   "source": [
    "sess.run(init)"
   ]
  },
  {
   "cell_type": "code",
   "execution_count": 48,
   "id": "fc03b921",
   "metadata": {},
   "outputs": [
    {
     "data": {
      "text/plain": [
       "array([15, 25, 35, 45, 55])"
      ]
     },
     "execution_count": 48,
     "metadata": {},
     "output_type": "execute_result"
    }
   ],
   "source": [
    "sess.run(y,feed_dict={x:[1,2,3,4,5]})"
   ]
  },
  {
   "cell_type": "code",
   "execution_count": 50,
   "id": "1ccc3816",
   "metadata": {},
   "outputs": [
    {
     "data": {
      "text/plain": [
       "array([11, 17, 23, 29, 35])"
      ]
     },
     "execution_count": 50,
     "metadata": {},
     "output_type": "execute_result"
    }
   ],
   "source": [
    "#c1. Choose arbitrary values for m and c\n",
    "sess = tf.compat.v1.Session()\n",
    "x = tf.compat.v1.placeholder(tf.int32)\n",
    "m=tf.compat.v1.Variable([6],tf.int32)\n",
    "c=tf.compat.v1.Variable([5],tf.int32)\n",
    "init = tf.compat.v1.global_variables_initializer()\n",
    "y=m*x+c\n",
    "sess.run(init)\n",
    "sess.run(y,feed_dict={x:[1,2,3,4,5]})"
   ]
  },
  {
   "cell_type": "code",
   "execution_count": 56,
   "id": "b2060d77",
   "metadata": {},
   "outputs": [
    {
     "data": {
      "text/plain": [
       "array([ 7,  8,  9, 10, 11])"
      ]
     },
     "execution_count": 56,
     "metadata": {},
     "output_type": "execute_result"
    }
   ],
   "source": [
    "#c2. Choose arbitrary values for m and c\n",
    "sess = tf.compat.v1.Session()\n",
    "x = tf.compat.v1.placeholder(tf.int32)\n",
    "m=tf.compat.v1.Variable([1],tf.int32)\n",
    "c=tf.compat.v1.Variable([6],tf.int32)\n",
    "init = tf.compat.v1.global_variables_initializer()\n",
    "y=m*x+c\n",
    "sess.run(init)\n",
    "sess.run(y,feed_dict={x:[1,2,3,4,5]})"
   ]
  },
  {
   "cell_type": "code",
   "execution_count": null,
   "id": "480f6bd3",
   "metadata": {},
   "outputs": [],
   "source": []
  }
 ],
 "metadata": {
  "kernelspec": {
   "display_name": "Python 3 (ipykernel)",
   "language": "python",
   "name": "python3"
  },
  "language_info": {
   "codemirror_mode": {
    "name": "ipython",
    "version": 3
   },
   "file_extension": ".py",
   "mimetype": "text/x-python",
   "name": "python",
   "nbconvert_exporter": "python",
   "pygments_lexer": "ipython3",
   "version": "3.11.5"
  }
 },
 "nbformat": 4,
 "nbformat_minor": 5
}
